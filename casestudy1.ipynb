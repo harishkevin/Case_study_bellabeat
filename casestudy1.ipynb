{
 "cells": [
  {
   "cell_type": "code",
   "execution_count": 1,
   "id": "e8f4b848",
   "metadata": {
    "_cell_guid": "b1076dfc-b9ad-4769-8c92-a6c4dae69d19",
    "_uuid": "8f2839f25d086af736a60e9eeb907d3b93b6e0e5",
    "execution": {
     "iopub.execute_input": "2022-06-12T16:30:40.472454Z",
     "iopub.status.busy": "2022-06-12T16:30:40.472007Z",
     "iopub.status.idle": "2022-06-12T16:30:40.490563Z",
     "shell.execute_reply": "2022-06-12T16:30:40.489440Z"
    },
    "papermill": {
     "duration": 0.035631,
     "end_time": "2022-06-12T16:30:40.494017",
     "exception": false,
     "start_time": "2022-06-12T16:30:40.458386",
     "status": "completed"
    },
    "tags": []
   },
   "outputs": [
    {
     "name": "stdout",
     "output_type": "stream",
     "text": [
      "/kaggle/input/fitbit-data-analysis/Activity (NR).csv\n",
      "/kaggle/input/fitbit-data-analysis/sleepDay_merged.csv\n",
      "/kaggle/input/fitbit-data-analysis/Sleep and Activity.csv\n",
      "/kaggle/input/fitbit-data-analysis/Activity Summary.csv\n",
      "/kaggle/input/fitbit-data-analysis/Sleep and Activity (NR).csv\n",
      "/kaggle/input/fitbit-data-analysis/dailyActivity_merged.csv\n"
     ]
    }
   ],
   "source": [
    "# This Python 3 environment comes with many helpful analytics libraries installed\n",
    "# It is defined by the kaggle/python Docker image: https://github.com/kaggle/docker-python\n",
    "# For example, here's several helpful packages to load\n",
    "\n",
    "import numpy as np # linear algebra\n",
    "import pandas as pd # data processing, CSV file I/O (e.g. pd.read_csv)\n",
    "\n",
    "# Input data files are available in the read-only \"../input/\" directory\n",
    "# For example, running this (by clicking run or pressing Shift+Enter) will list all files under the input directory\n",
    "\n",
    "import os\n",
    "for dirname, _, filenames in os.walk('/kaggle/input'):\n",
    "    for filename in filenames:\n",
    "        print(os.path.join(dirname, filename))\n",
    "\n",
    "# You can write up to 20GB to the current directory (/kaggle/working/) that gets preserved as output when you create a version using \"Save & Run All\" \n",
    "# You can also write temporary files to /kaggle/temp/, but they won't be saved outside of the current session"
   ]
  },
  {
   "cell_type": "markdown",
   "id": "f053f5c4",
   "metadata": {
    "papermill": {
     "duration": 0.007659,
     "end_time": "2022-06-12T16:30:40.510051",
     "exception": false,
     "start_time": "2022-06-12T16:30:40.502392",
     "status": "completed"
    },
    "tags": []
   },
   "source": [
    "# # Case study : Bellabeat \n",
    "\n",
    "# About the company\n",
    "\n",
    "Bellabeat, a high-tech company that manufactures health-focused smart products. Bellabeat Collects data on activity, sleep, stress, and reproductive health has allowed Bellabeat to empower women with knowledge about their own health and habits. Since it was founded in 2013, Bellabeat has grown rapidly and quickly positioned itself as a tech-driven wellness company for women.\n",
    "\n",
    "In this analysis, diffetent datasets will be analysed and the findings will be given.\n",
    "\n",
    "Various tools such as spreadsheet, SQL, python and tableau are used for the analysis.\n"
   ]
  },
  {
   "cell_type": "markdown",
   "id": "0eaebc01",
   "metadata": {
    "papermill": {
     "duration": 0.007598,
     "end_time": "2022-06-12T16:30:40.525716",
     "exception": false,
     "start_time": "2022-06-12T16:30:40.518118",
     "status": "completed"
    },
    "tags": []
   },
   "source": [
    "# Business task\n",
    "\n",
    "1. The main task is to analyse the costumer behaviour and design a effective marketing campaign to attract new customers.\n",
    "\n",
    "2. To identify the target audience\n",
    "\n",
    "I have framed two questions that this analysis would try to answer,\n",
    "\n",
    "Why: To design a effective marketing campaign.\n",
    "\n",
    "How: Gaining customer behaviour insights.\n"
   ]
  },
  {
   "cell_type": "markdown",
   "id": "b38ad404",
   "metadata": {
    "papermill": {
     "duration": 0.007838,
     "end_time": "2022-06-12T16:30:40.541912",
     "exception": false,
     "start_time": "2022-06-12T16:30:40.534074",
     "status": "completed"
    },
    "tags": []
   },
   "source": [
    "# Key stakeholders\n",
    "\n",
    "**Internal stakeholders**\n",
    "\n",
    "1. Urška Sršen\n",
    "\n",
    "2. Sando Mur\n",
    "\n",
    "3. Bellabeat Marketing Analytics Team\n",
    "\n",
    "**External stakeholders**\n",
    "\n",
    "1. Customers\n",
    "\n",
    "2. Targeted Audience"
   ]
  },
  {
   "cell_type": "code",
   "execution_count": 2,
   "id": "09258e6d",
   "metadata": {
    "execution": {
     "iopub.execute_input": "2022-06-12T16:30:40.560498Z",
     "iopub.status.busy": "2022-06-12T16:30:40.560081Z",
     "iopub.status.idle": "2022-06-12T16:30:41.758572Z",
     "shell.execute_reply": "2022-06-12T16:30:41.757447Z"
    },
    "papermill": {
     "duration": 1.211214,
     "end_time": "2022-06-12T16:30:41.761409",
     "exception": false,
     "start_time": "2022-06-12T16:30:40.550195",
     "status": "completed"
    },
    "tags": []
   },
   "outputs": [],
   "source": [
    "# importing required libraries\n",
    "\n",
    "import numpy as np\n",
    "import pandas as pd \n",
    "import matplotlib.pyplot as plt\n",
    "import seaborn as sns"
   ]
  },
  {
   "cell_type": "code",
   "execution_count": 3,
   "id": "47f31164",
   "metadata": {
    "execution": {
     "iopub.execute_input": "2022-06-12T16:30:41.778878Z",
     "iopub.status.busy": "2022-06-12T16:30:41.778207Z",
     "iopub.status.idle": "2022-06-12T16:30:41.835080Z",
     "shell.execute_reply": "2022-06-12T16:30:41.834185Z"
    },
    "papermill": {
     "duration": 0.068551,
     "end_time": "2022-06-12T16:30:41.837718",
     "exception": false,
     "start_time": "2022-06-12T16:30:41.769167",
     "status": "completed"
    },
    "tags": []
   },
   "outputs": [
    {
     "data": {
      "text/html": [
       "<div>\n",
       "<style scoped>\n",
       "    .dataframe tbody tr th:only-of-type {\n",
       "        vertical-align: middle;\n",
       "    }\n",
       "\n",
       "    .dataframe tbody tr th {\n",
       "        vertical-align: top;\n",
       "    }\n",
       "\n",
       "    .dataframe thead th {\n",
       "        text-align: right;\n",
       "    }\n",
       "</style>\n",
       "<table border=\"1\" class=\"dataframe\">\n",
       "  <thead>\n",
       "    <tr style=\"text-align: right;\">\n",
       "      <th></th>\n",
       "      <th>Id</th>\n",
       "      <th>ActivityDay</th>\n",
       "      <th>TotalDistance</th>\n",
       "      <th>TotalActiveHours</th>\n",
       "      <th>SedentaryHours</th>\n",
       "    </tr>\n",
       "  </thead>\n",
       "  <tbody>\n",
       "    <tr>\n",
       "      <th>0</th>\n",
       "      <td>1624580081</td>\n",
       "      <td>01/05/2016</td>\n",
       "      <td>28</td>\n",
       "      <td>7.000000</td>\n",
       "      <td>17.000000</td>\n",
       "    </tr>\n",
       "    <tr>\n",
       "      <th>1</th>\n",
       "      <td>8877689391</td>\n",
       "      <td>30/04/2016</td>\n",
       "      <td>27</td>\n",
       "      <td>5.850000</td>\n",
       "      <td>18.150000</td>\n",
       "    </tr>\n",
       "    <tr>\n",
       "      <th>2</th>\n",
       "      <td>1503960366</td>\n",
       "      <td>12/05/2016</td>\n",
       "      <td>0</td>\n",
       "      <td>0.000000</td>\n",
       "      <td>24.000000</td>\n",
       "    </tr>\n",
       "    <tr>\n",
       "      <th>3</th>\n",
       "      <td>1844505072</td>\n",
       "      <td>19/04/2016</td>\n",
       "      <td>0</td>\n",
       "      <td>0.166667</td>\n",
       "      <td>23.833333</td>\n",
       "    </tr>\n",
       "    <tr>\n",
       "      <th>4</th>\n",
       "      <td>1844505072</td>\n",
       "      <td>20/04/2016</td>\n",
       "      <td>0</td>\n",
       "      <td>0.016667</td>\n",
       "      <td>23.983333</td>\n",
       "    </tr>\n",
       "  </tbody>\n",
       "</table>\n",
       "</div>"
      ],
      "text/plain": [
       "           Id ActivityDay  TotalDistance  TotalActiveHours  SedentaryHours\n",
       "0  1624580081  01/05/2016             28          7.000000       17.000000\n",
       "1  8877689391  30/04/2016             27          5.850000       18.150000\n",
       "2  1503960366  12/05/2016              0          0.000000       24.000000\n",
       "3  1844505072  19/04/2016              0          0.166667       23.833333\n",
       "4  1844505072  20/04/2016              0          0.016667       23.983333"
      ]
     },
     "execution_count": 3,
     "metadata": {},
     "output_type": "execute_result"
    }
   ],
   "source": [
    "# importing the datasets\n",
    "\n",
    "activity_data = pd.read_csv('../input/fitbit-data-analysis/Activity (NR).csv')\n",
    "sleep_and_activity = pd.read_csv('../input/fitbit-data-analysis/Sleep and Activity (NR).csv')\n",
    "daily_activity = pd.read_csv('../input/fitbit-data-analysis/dailyActivity_merged.csv')\n",
    "sleep_day = pd.read_csv('../input/fitbit-data-analysis/sleepDay_merged.csv')\n",
    "activity_data.head()"
   ]
  },
  {
   "cell_type": "code",
   "execution_count": 4,
   "id": "26d591c4",
   "metadata": {
    "execution": {
     "iopub.execute_input": "2022-06-12T16:30:41.856120Z",
     "iopub.status.busy": "2022-06-12T16:30:41.855734Z",
     "iopub.status.idle": "2022-06-12T16:30:41.868062Z",
     "shell.execute_reply": "2022-06-12T16:30:41.867384Z"
    },
    "papermill": {
     "duration": 0.023846,
     "end_time": "2022-06-12T16:30:41.870218",
     "exception": false,
     "start_time": "2022-06-12T16:30:41.846372",
     "status": "completed"
    },
    "tags": []
   },
   "outputs": [
    {
     "data": {
      "text/html": [
       "<div>\n",
       "<style scoped>\n",
       "    .dataframe tbody tr th:only-of-type {\n",
       "        vertical-align: middle;\n",
       "    }\n",
       "\n",
       "    .dataframe tbody tr th {\n",
       "        vertical-align: top;\n",
       "    }\n",
       "\n",
       "    .dataframe thead th {\n",
       "        text-align: right;\n",
       "    }\n",
       "</style>\n",
       "<table border=\"1\" class=\"dataframe\">\n",
       "  <thead>\n",
       "    <tr style=\"text-align: right;\">\n",
       "      <th></th>\n",
       "      <th>Id</th>\n",
       "      <th>ActivityDay</th>\n",
       "      <th>Average_sleep_hours</th>\n",
       "      <th>Average_time_in_bed_hours</th>\n",
       "      <th>Average_calories</th>\n",
       "      <th>Average_steps</th>\n",
       "      <th>TotalDistance</th>\n",
       "    </tr>\n",
       "  </thead>\n",
       "  <tbody>\n",
       "    <tr>\n",
       "      <th>0</th>\n",
       "      <td>1503960366</td>\n",
       "      <td>12/04/2016</td>\n",
       "      <td>5.450000</td>\n",
       "      <td>5.766667</td>\n",
       "      <td>1985</td>\n",
       "      <td>13162</td>\n",
       "      <td>9</td>\n",
       "    </tr>\n",
       "    <tr>\n",
       "      <th>1</th>\n",
       "      <td>1503960366</td>\n",
       "      <td>13/04/2016</td>\n",
       "      <td>6.400000</td>\n",
       "      <td>6.783333</td>\n",
       "      <td>1797</td>\n",
       "      <td>10735</td>\n",
       "      <td>8</td>\n",
       "    </tr>\n",
       "    <tr>\n",
       "      <th>2</th>\n",
       "      <td>1503960366</td>\n",
       "      <td>15/04/2016</td>\n",
       "      <td>6.866667</td>\n",
       "      <td>7.366667</td>\n",
       "      <td>1745</td>\n",
       "      <td>9762</td>\n",
       "      <td>6</td>\n",
       "    </tr>\n",
       "    <tr>\n",
       "      <th>3</th>\n",
       "      <td>1503960366</td>\n",
       "      <td>16/04/2016</td>\n",
       "      <td>5.666667</td>\n",
       "      <td>6.116667</td>\n",
       "      <td>1863</td>\n",
       "      <td>12669</td>\n",
       "      <td>8</td>\n",
       "    </tr>\n",
       "    <tr>\n",
       "      <th>4</th>\n",
       "      <td>1503960366</td>\n",
       "      <td>17/04/2016</td>\n",
       "      <td>11.666667</td>\n",
       "      <td>11.866667</td>\n",
       "      <td>1728</td>\n",
       "      <td>9705</td>\n",
       "      <td>7</td>\n",
       "    </tr>\n",
       "  </tbody>\n",
       "</table>\n",
       "</div>"
      ],
      "text/plain": [
       "           Id ActivityDay  Average_sleep_hours  Average_time_in_bed_hours  \\\n",
       "0  1503960366  12/04/2016             5.450000                   5.766667   \n",
       "1  1503960366  13/04/2016             6.400000                   6.783333   \n",
       "2  1503960366  15/04/2016             6.866667                   7.366667   \n",
       "3  1503960366  16/04/2016             5.666667                   6.116667   \n",
       "4  1503960366  17/04/2016            11.666667                  11.866667   \n",
       "\n",
       "   Average_calories  Average_steps  TotalDistance  \n",
       "0              1985          13162              9  \n",
       "1              1797          10735              8  \n",
       "2              1745           9762              6  \n",
       "3              1863          12669              8  \n",
       "4              1728           9705              7  "
      ]
     },
     "execution_count": 4,
     "metadata": {},
     "output_type": "execute_result"
    }
   ],
   "source": [
    "sleep_and_activity.head()"
   ]
  },
  {
   "cell_type": "code",
   "execution_count": 5,
   "id": "912f3aeb",
   "metadata": {
    "execution": {
     "iopub.execute_input": "2022-06-12T16:30:41.890408Z",
     "iopub.status.busy": "2022-06-12T16:30:41.889788Z",
     "iopub.status.idle": "2022-06-12T16:30:41.906547Z",
     "shell.execute_reply": "2022-06-12T16:30:41.905464Z"
    },
    "papermill": {
     "duration": 0.029409,
     "end_time": "2022-06-12T16:30:41.908940",
     "exception": false,
     "start_time": "2022-06-12T16:30:41.879531",
     "status": "completed"
    },
    "tags": []
   },
   "outputs": [
    {
     "data": {
      "text/html": [
       "<div>\n",
       "<style scoped>\n",
       "    .dataframe tbody tr th:only-of-type {\n",
       "        vertical-align: middle;\n",
       "    }\n",
       "\n",
       "    .dataframe tbody tr th {\n",
       "        vertical-align: top;\n",
       "    }\n",
       "\n",
       "    .dataframe thead th {\n",
       "        text-align: right;\n",
       "    }\n",
       "</style>\n",
       "<table border=\"1\" class=\"dataframe\">\n",
       "  <thead>\n",
       "    <tr style=\"text-align: right;\">\n",
       "      <th></th>\n",
       "      <th>Id</th>\n",
       "      <th>ActivityDay</th>\n",
       "      <th>Calories</th>\n",
       "      <th>SedentaryMinutes</th>\n",
       "      <th>LightlyActiveMinutes</th>\n",
       "      <th>FairlyActiveMinutes</th>\n",
       "      <th>VeryActiveMinutes</th>\n",
       "      <th>SedentaryActiveDistance</th>\n",
       "      <th>LightActiveDistance</th>\n",
       "      <th>ModeratelyActiveDistance</th>\n",
       "      <th>VeryActiveDistance</th>\n",
       "      <th>StepTotal</th>\n",
       "    </tr>\n",
       "  </thead>\n",
       "  <tbody>\n",
       "    <tr>\n",
       "      <th>0</th>\n",
       "      <td>1503960366</td>\n",
       "      <td>12/04/2016</td>\n",
       "      <td>1985</td>\n",
       "      <td>728</td>\n",
       "      <td>328</td>\n",
       "      <td>13</td>\n",
       "      <td>25</td>\n",
       "      <td>0</td>\n",
       "      <td>6</td>\n",
       "      <td>1</td>\n",
       "      <td>2</td>\n",
       "      <td>13162</td>\n",
       "    </tr>\n",
       "    <tr>\n",
       "      <th>1</th>\n",
       "      <td>1503960366</td>\n",
       "      <td>13/04/2016</td>\n",
       "      <td>1797</td>\n",
       "      <td>776</td>\n",
       "      <td>217</td>\n",
       "      <td>19</td>\n",
       "      <td>21</td>\n",
       "      <td>0</td>\n",
       "      <td>5</td>\n",
       "      <td>1</td>\n",
       "      <td>2</td>\n",
       "      <td>10735</td>\n",
       "    </tr>\n",
       "    <tr>\n",
       "      <th>2</th>\n",
       "      <td>1503960366</td>\n",
       "      <td>14/04/2016</td>\n",
       "      <td>1776</td>\n",
       "      <td>1218</td>\n",
       "      <td>181</td>\n",
       "      <td>11</td>\n",
       "      <td>30</td>\n",
       "      <td>0</td>\n",
       "      <td>4</td>\n",
       "      <td>0</td>\n",
       "      <td>2</td>\n",
       "      <td>10460</td>\n",
       "    </tr>\n",
       "    <tr>\n",
       "      <th>3</th>\n",
       "      <td>1503960366</td>\n",
       "      <td>15/04/2016</td>\n",
       "      <td>1745</td>\n",
       "      <td>726</td>\n",
       "      <td>209</td>\n",
       "      <td>34</td>\n",
       "      <td>29</td>\n",
       "      <td>0</td>\n",
       "      <td>3</td>\n",
       "      <td>1</td>\n",
       "      <td>2</td>\n",
       "      <td>9762</td>\n",
       "    </tr>\n",
       "    <tr>\n",
       "      <th>4</th>\n",
       "      <td>1503960366</td>\n",
       "      <td>16/04/2016</td>\n",
       "      <td>1863</td>\n",
       "      <td>773</td>\n",
       "      <td>221</td>\n",
       "      <td>10</td>\n",
       "      <td>36</td>\n",
       "      <td>0</td>\n",
       "      <td>5</td>\n",
       "      <td>0</td>\n",
       "      <td>3</td>\n",
       "      <td>12669</td>\n",
       "    </tr>\n",
       "  </tbody>\n",
       "</table>\n",
       "</div>"
      ],
      "text/plain": [
       "           Id ActivityDay  Calories  SedentaryMinutes  LightlyActiveMinutes  \\\n",
       "0  1503960366  12/04/2016      1985               728                   328   \n",
       "1  1503960366  13/04/2016      1797               776                   217   \n",
       "2  1503960366  14/04/2016      1776              1218                   181   \n",
       "3  1503960366  15/04/2016      1745               726                   209   \n",
       "4  1503960366  16/04/2016      1863               773                   221   \n",
       "\n",
       "   FairlyActiveMinutes  VeryActiveMinutes  SedentaryActiveDistance  \\\n",
       "0                   13                 25                        0   \n",
       "1                   19                 21                        0   \n",
       "2                   11                 30                        0   \n",
       "3                   34                 29                        0   \n",
       "4                   10                 36                        0   \n",
       "\n",
       "   LightActiveDistance  ModeratelyActiveDistance  VeryActiveDistance  \\\n",
       "0                    6                         1                   2   \n",
       "1                    5                         1                   2   \n",
       "2                    4                         0                   2   \n",
       "3                    3                         1                   2   \n",
       "4                    5                         0                   3   \n",
       "\n",
       "   StepTotal  \n",
       "0      13162  \n",
       "1      10735  \n",
       "2      10460  \n",
       "3       9762  \n",
       "4      12669  "
      ]
     },
     "execution_count": 5,
     "metadata": {},
     "output_type": "execute_result"
    }
   ],
   "source": [
    "daily_activity.head()"
   ]
  },
  {
   "cell_type": "code",
   "execution_count": 6,
   "id": "07e3effb",
   "metadata": {
    "execution": {
     "iopub.execute_input": "2022-06-12T16:30:41.929115Z",
     "iopub.status.busy": "2022-06-12T16:30:41.928711Z",
     "iopub.status.idle": "2022-06-12T16:30:41.941976Z",
     "shell.execute_reply": "2022-06-12T16:30:41.940820Z"
    },
    "papermill": {
     "duration": 0.025912,
     "end_time": "2022-06-12T16:30:41.944479",
     "exception": false,
     "start_time": "2022-06-12T16:30:41.918567",
     "status": "completed"
    },
    "tags": []
   },
   "outputs": [
    {
     "data": {
      "text/html": [
       "<div>\n",
       "<style scoped>\n",
       "    .dataframe tbody tr th:only-of-type {\n",
       "        vertical-align: middle;\n",
       "    }\n",
       "\n",
       "    .dataframe tbody tr th {\n",
       "        vertical-align: top;\n",
       "    }\n",
       "\n",
       "    .dataframe thead th {\n",
       "        text-align: right;\n",
       "    }\n",
       "</style>\n",
       "<table border=\"1\" class=\"dataframe\">\n",
       "  <thead>\n",
       "    <tr style=\"text-align: right;\">\n",
       "      <th></th>\n",
       "      <th>Id</th>\n",
       "      <th>SleepDay</th>\n",
       "      <th>Time</th>\n",
       "      <th>TotalSleepRecords</th>\n",
       "      <th>TotalMinutesAsleep</th>\n",
       "      <th>TotalTimeInBed</th>\n",
       "    </tr>\n",
       "  </thead>\n",
       "  <tbody>\n",
       "    <tr>\n",
       "      <th>0</th>\n",
       "      <td>1503960366</td>\n",
       "      <td>12/04/2016</td>\n",
       "      <td>00:00:00</td>\n",
       "      <td>1</td>\n",
       "      <td>327</td>\n",
       "      <td>346</td>\n",
       "    </tr>\n",
       "    <tr>\n",
       "      <th>1</th>\n",
       "      <td>1503960366</td>\n",
       "      <td>13/04/2016</td>\n",
       "      <td>12:00:00</td>\n",
       "      <td>2</td>\n",
       "      <td>384</td>\n",
       "      <td>407</td>\n",
       "    </tr>\n",
       "    <tr>\n",
       "      <th>2</th>\n",
       "      <td>1503960366</td>\n",
       "      <td>15/04/2016</td>\n",
       "      <td>12:00:00</td>\n",
       "      <td>1</td>\n",
       "      <td>412</td>\n",
       "      <td>442</td>\n",
       "    </tr>\n",
       "    <tr>\n",
       "      <th>3</th>\n",
       "      <td>1503960366</td>\n",
       "      <td>16/04/2016</td>\n",
       "      <td>12:00:00</td>\n",
       "      <td>2</td>\n",
       "      <td>340</td>\n",
       "      <td>367</td>\n",
       "    </tr>\n",
       "    <tr>\n",
       "      <th>4</th>\n",
       "      <td>1503960366</td>\n",
       "      <td>17/04/2016</td>\n",
       "      <td>12:00:00</td>\n",
       "      <td>1</td>\n",
       "      <td>700</td>\n",
       "      <td>712</td>\n",
       "    </tr>\n",
       "  </tbody>\n",
       "</table>\n",
       "</div>"
      ],
      "text/plain": [
       "           Id    SleepDay      Time  TotalSleepRecords  TotalMinutesAsleep  \\\n",
       "0  1503960366  12/04/2016  00:00:00                  1                 327   \n",
       "1  1503960366  13/04/2016  12:00:00                  2                 384   \n",
       "2  1503960366  15/04/2016  12:00:00                  1                 412   \n",
       "3  1503960366  16/04/2016  12:00:00                  2                 340   \n",
       "4  1503960366  17/04/2016  12:00:00                  1                 700   \n",
       "\n",
       "   TotalTimeInBed  \n",
       "0             346  \n",
       "1             407  \n",
       "2             442  \n",
       "3             367  \n",
       "4             712  "
      ]
     },
     "execution_count": 6,
     "metadata": {},
     "output_type": "execute_result"
    }
   ],
   "source": [
    "sleep_day.head()"
   ]
  },
  {
   "cell_type": "markdown",
   "id": "70edd280",
   "metadata": {
    "papermill": {
     "duration": 0.008723,
     "end_time": "2022-06-12T16:30:41.962431",
     "exception": false,
     "start_time": "2022-06-12T16:30:41.953708",
     "status": "completed"
    },
    "tags": []
   },
   "source": [
    "# Cleaning"
   ]
  },
  {
   "cell_type": "code",
   "execution_count": 7,
   "id": "3a9c8c8e",
   "metadata": {
    "execution": {
     "iopub.execute_input": "2022-06-12T16:30:41.982724Z",
     "iopub.status.busy": "2022-06-12T16:30:41.981803Z",
     "iopub.status.idle": "2022-06-12T16:30:41.998397Z",
     "shell.execute_reply": "2022-06-12T16:30:41.997323Z"
    },
    "papermill": {
     "duration": 0.029614,
     "end_time": "2022-06-12T16:30:42.000907",
     "exception": false,
     "start_time": "2022-06-12T16:30:41.971293",
     "status": "completed"
    },
    "tags": []
   },
   "outputs": [],
   "source": [
    "# droping features (sleepday, activityday) in sleep_day and activity_data as they are incorrect\n",
    "\n",
    "sleep_day = sleep_day.drop(['SleepDay', 'Time'], axis=1)\n",
    "activity_data = activity_data.drop('ActivityDay', axis=1)\n",
    "sleep_and_activity = sleep_and_activity.drop('ActivityDay', axis=1)\n",
    "daily_activity = daily_activity.drop('ActivityDay', axis=1)\n"
   ]
  },
  {
   "cell_type": "code",
   "execution_count": 8,
   "id": "ef62a059",
   "metadata": {
    "execution": {
     "iopub.execute_input": "2022-06-12T16:30:42.021820Z",
     "iopub.status.busy": "2022-06-12T16:30:42.021088Z",
     "iopub.status.idle": "2022-06-12T16:30:42.043678Z",
     "shell.execute_reply": "2022-06-12T16:30:42.042550Z"
    },
    "papermill": {
     "duration": 0.035693,
     "end_time": "2022-06-12T16:30:42.046242",
     "exception": false,
     "start_time": "2022-06-12T16:30:42.010549",
     "status": "completed"
    },
    "tags": []
   },
   "outputs": [
    {
     "name": "stdout",
     "output_type": "stream",
     "text": [
      "<class 'pandas.core.frame.DataFrame'>\n",
      "RangeIndex: 940 entries, 0 to 939\n",
      "Data columns (total 4 columns):\n",
      " #   Column            Non-Null Count  Dtype  \n",
      "---  ------            --------------  -----  \n",
      " 0   Id                940 non-null    int64  \n",
      " 1   TotalDistance     940 non-null    int64  \n",
      " 2   TotalActiveHours  940 non-null    float64\n",
      " 3   SedentaryHours    940 non-null    float64\n",
      "dtypes: float64(2), int64(2)\n",
      "memory usage: 29.5 KB\n"
     ]
    }
   ],
   "source": [
    "# checking for any null values and proper datatypes\n",
    "\n",
    "activity_data.info()"
   ]
  },
  {
   "cell_type": "code",
   "execution_count": 9,
   "id": "23b66a48",
   "metadata": {
    "execution": {
     "iopub.execute_input": "2022-06-12T16:30:42.066027Z",
     "iopub.status.busy": "2022-06-12T16:30:42.065321Z",
     "iopub.status.idle": "2022-06-12T16:30:42.078382Z",
     "shell.execute_reply": "2022-06-12T16:30:42.077120Z"
    },
    "papermill": {
     "duration": 0.025732,
     "end_time": "2022-06-12T16:30:42.080795",
     "exception": false,
     "start_time": "2022-06-12T16:30:42.055063",
     "status": "completed"
    },
    "tags": []
   },
   "outputs": [
    {
     "name": "stdout",
     "output_type": "stream",
     "text": [
      "<class 'pandas.core.frame.DataFrame'>\n",
      "RangeIndex: 410 entries, 0 to 409\n",
      "Data columns (total 6 columns):\n",
      " #   Column                     Non-Null Count  Dtype  \n",
      "---  ------                     --------------  -----  \n",
      " 0   Id                         410 non-null    int64  \n",
      " 1   Average_sleep_hours        410 non-null    float64\n",
      " 2   Average_time_in_bed_hours  410 non-null    float64\n",
      " 3   Average_calories           410 non-null    int64  \n",
      " 4   Average_steps              410 non-null    int64  \n",
      " 5   TotalDistance              410 non-null    int64  \n",
      "dtypes: float64(2), int64(4)\n",
      "memory usage: 19.3 KB\n"
     ]
    }
   ],
   "source": [
    "sleep_and_activity.info()"
   ]
  },
  {
   "cell_type": "code",
   "execution_count": 10,
   "id": "78f67fb2",
   "metadata": {
    "execution": {
     "iopub.execute_input": "2022-06-12T16:30:42.101607Z",
     "iopub.status.busy": "2022-06-12T16:30:42.100790Z",
     "iopub.status.idle": "2022-06-12T16:30:42.113934Z",
     "shell.execute_reply": "2022-06-12T16:30:42.113010Z"
    },
    "papermill": {
     "duration": 0.027227,
     "end_time": "2022-06-12T16:30:42.117118",
     "exception": false,
     "start_time": "2022-06-12T16:30:42.089891",
     "status": "completed"
    },
    "tags": []
   },
   "outputs": [
    {
     "name": "stdout",
     "output_type": "stream",
     "text": [
      "<class 'pandas.core.frame.DataFrame'>\n",
      "RangeIndex: 940 entries, 0 to 939\n",
      "Data columns (total 11 columns):\n",
      " #   Column                    Non-Null Count  Dtype\n",
      "---  ------                    --------------  -----\n",
      " 0   Id                        940 non-null    int64\n",
      " 1   Calories                  940 non-null    int64\n",
      " 2   SedentaryMinutes          940 non-null    int64\n",
      " 3   LightlyActiveMinutes      940 non-null    int64\n",
      " 4   FairlyActiveMinutes       940 non-null    int64\n",
      " 5   VeryActiveMinutes         940 non-null    int64\n",
      " 6   SedentaryActiveDistance   940 non-null    int64\n",
      " 7   LightActiveDistance       940 non-null    int64\n",
      " 8   ModeratelyActiveDistance  940 non-null    int64\n",
      " 9   VeryActiveDistance        940 non-null    int64\n",
      " 10  StepTotal                 940 non-null    int64\n",
      "dtypes: int64(11)\n",
      "memory usage: 80.9 KB\n"
     ]
    }
   ],
   "source": [
    "daily_activity.info()"
   ]
  },
  {
   "cell_type": "code",
   "execution_count": 11,
   "id": "c26c57ae",
   "metadata": {
    "execution": {
     "iopub.execute_input": "2022-06-12T16:30:42.138751Z",
     "iopub.status.busy": "2022-06-12T16:30:42.138366Z",
     "iopub.status.idle": "2022-06-12T16:30:42.150978Z",
     "shell.execute_reply": "2022-06-12T16:30:42.149851Z"
    },
    "papermill": {
     "duration": 0.026515,
     "end_time": "2022-06-12T16:30:42.153834",
     "exception": false,
     "start_time": "2022-06-12T16:30:42.127319",
     "status": "completed"
    },
    "tags": []
   },
   "outputs": [
    {
     "name": "stdout",
     "output_type": "stream",
     "text": [
      "<class 'pandas.core.frame.DataFrame'>\n",
      "RangeIndex: 413 entries, 0 to 412\n",
      "Data columns (total 4 columns):\n",
      " #   Column              Non-Null Count  Dtype\n",
      "---  ------              --------------  -----\n",
      " 0   Id                  413 non-null    int64\n",
      " 1   TotalSleepRecords   413 non-null    int64\n",
      " 2   TotalMinutesAsleep  413 non-null    int64\n",
      " 3   TotalTimeInBed      413 non-null    int64\n",
      "dtypes: int64(4)\n",
      "memory usage: 13.0 KB\n"
     ]
    }
   ],
   "source": [
    "sleep_day.info()"
   ]
  },
  {
   "cell_type": "code",
   "execution_count": 12,
   "id": "92b90a67",
   "metadata": {
    "execution": {
     "iopub.execute_input": "2022-06-12T16:30:42.173888Z",
     "iopub.status.busy": "2022-06-12T16:30:42.173509Z",
     "iopub.status.idle": "2022-06-12T16:30:42.208755Z",
     "shell.execute_reply": "2022-06-12T16:30:42.207690Z"
    },
    "papermill": {
     "duration": 0.04812,
     "end_time": "2022-06-12T16:30:42.210933",
     "exception": false,
     "start_time": "2022-06-12T16:30:42.162813",
     "status": "completed"
    },
    "tags": []
   },
   "outputs": [
    {
     "data": {
      "text/html": [
       "<div>\n",
       "<style scoped>\n",
       "    .dataframe tbody tr th:only-of-type {\n",
       "        vertical-align: middle;\n",
       "    }\n",
       "\n",
       "    .dataframe tbody tr th {\n",
       "        vertical-align: top;\n",
       "    }\n",
       "\n",
       "    .dataframe thead th {\n",
       "        text-align: right;\n",
       "    }\n",
       "</style>\n",
       "<table border=\"1\" class=\"dataframe\">\n",
       "  <thead>\n",
       "    <tr style=\"text-align: right;\">\n",
       "      <th></th>\n",
       "      <th>Id</th>\n",
       "      <th>TotalDistance</th>\n",
       "      <th>TotalActiveHours</th>\n",
       "      <th>SedentaryHours</th>\n",
       "      <th>Calories</th>\n",
       "      <th>SedentaryMinutes</th>\n",
       "      <th>LightlyActiveMinutes</th>\n",
       "      <th>FairlyActiveMinutes</th>\n",
       "      <th>VeryActiveMinutes</th>\n",
       "      <th>SedentaryActiveDistance</th>\n",
       "      <th>LightActiveDistance</th>\n",
       "      <th>ModeratelyActiveDistance</th>\n",
       "      <th>VeryActiveDistance</th>\n",
       "      <th>StepTotal</th>\n",
       "    </tr>\n",
       "  </thead>\n",
       "  <tbody>\n",
       "    <tr>\n",
       "      <th>0</th>\n",
       "      <td>1624580081</td>\n",
       "      <td>28</td>\n",
       "      <td>7.000000</td>\n",
       "      <td>17.000000</td>\n",
       "      <td>1432</td>\n",
       "      <td>1294</td>\n",
       "      <td>146</td>\n",
       "      <td>0</td>\n",
       "      <td>0</td>\n",
       "      <td>0</td>\n",
       "      <td>5</td>\n",
       "      <td>0</td>\n",
       "      <td>0</td>\n",
       "      <td>8163</td>\n",
       "    </tr>\n",
       "    <tr>\n",
       "      <th>1</th>\n",
       "      <td>1624580081</td>\n",
       "      <td>28</td>\n",
       "      <td>7.000000</td>\n",
       "      <td>17.000000</td>\n",
       "      <td>1411</td>\n",
       "      <td>1292</td>\n",
       "      <td>148</td>\n",
       "      <td>0</td>\n",
       "      <td>0</td>\n",
       "      <td>0</td>\n",
       "      <td>5</td>\n",
       "      <td>0</td>\n",
       "      <td>0</td>\n",
       "      <td>7007</td>\n",
       "    </tr>\n",
       "    <tr>\n",
       "      <th>2</th>\n",
       "      <td>1624580081</td>\n",
       "      <td>28</td>\n",
       "      <td>7.000000</td>\n",
       "      <td>17.000000</td>\n",
       "      <td>1572</td>\n",
       "      <td>1204</td>\n",
       "      <td>236</td>\n",
       "      <td>0</td>\n",
       "      <td>0</td>\n",
       "      <td>0</td>\n",
       "      <td>6</td>\n",
       "      <td>0</td>\n",
       "      <td>0</td>\n",
       "      <td>9107</td>\n",
       "    </tr>\n",
       "    <tr>\n",
       "      <th>3</th>\n",
       "      <td>1624580081</td>\n",
       "      <td>28</td>\n",
       "      <td>7.000000</td>\n",
       "      <td>17.000000</td>\n",
       "      <td>1344</td>\n",
       "      <td>1344</td>\n",
       "      <td>96</td>\n",
       "      <td>0</td>\n",
       "      <td>0</td>\n",
       "      <td>0</td>\n",
       "      <td>1</td>\n",
       "      <td>0</td>\n",
       "      <td>0</td>\n",
       "      <td>1510</td>\n",
       "    </tr>\n",
       "    <tr>\n",
       "      <th>4</th>\n",
       "      <td>1624580081</td>\n",
       "      <td>28</td>\n",
       "      <td>7.000000</td>\n",
       "      <td>17.000000</td>\n",
       "      <td>1463</td>\n",
       "      <td>1264</td>\n",
       "      <td>176</td>\n",
       "      <td>0</td>\n",
       "      <td>0</td>\n",
       "      <td>0</td>\n",
       "      <td>3</td>\n",
       "      <td>0</td>\n",
       "      <td>0</td>\n",
       "      <td>5370</td>\n",
       "    </tr>\n",
       "    <tr>\n",
       "      <th>...</th>\n",
       "      <td>...</td>\n",
       "      <td>...</td>\n",
       "      <td>...</td>\n",
       "      <td>...</td>\n",
       "      <td>...</td>\n",
       "      <td>...</td>\n",
       "      <td>...</td>\n",
       "      <td>...</td>\n",
       "      <td>...</td>\n",
       "      <td>...</td>\n",
       "      <td>...</td>\n",
       "      <td>...</td>\n",
       "      <td>...</td>\n",
       "      <td>...</td>\n",
       "    </tr>\n",
       "    <tr>\n",
       "      <th>27795</th>\n",
       "      <td>8378563200</td>\n",
       "      <td>13</td>\n",
       "      <td>4.483333</td>\n",
       "      <td>9.883333</td>\n",
       "      <td>2685</td>\n",
       "      <td>621</td>\n",
       "      <td>139</td>\n",
       "      <td>0</td>\n",
       "      <td>0</td>\n",
       "      <td>0</td>\n",
       "      <td>2</td>\n",
       "      <td>0</td>\n",
       "      <td>0</td>\n",
       "      <td>2943</td>\n",
       "    </tr>\n",
       "    <tr>\n",
       "      <th>27796</th>\n",
       "      <td>8378563200</td>\n",
       "      <td>13</td>\n",
       "      <td>4.483333</td>\n",
       "      <td>9.883333</td>\n",
       "      <td>3721</td>\n",
       "      <td>772</td>\n",
       "      <td>171</td>\n",
       "      <td>13</td>\n",
       "      <td>71</td>\n",
       "      <td>0</td>\n",
       "      <td>5</td>\n",
       "      <td>1</td>\n",
       "      <td>1</td>\n",
       "      <td>8382</td>\n",
       "    </tr>\n",
       "    <tr>\n",
       "      <th>27797</th>\n",
       "      <td>8378563200</td>\n",
       "      <td>13</td>\n",
       "      <td>4.483333</td>\n",
       "      <td>9.883333</td>\n",
       "      <td>3586</td>\n",
       "      <td>840</td>\n",
       "      <td>152</td>\n",
       "      <td>13</td>\n",
       "      <td>63</td>\n",
       "      <td>0</td>\n",
       "      <td>4</td>\n",
       "      <td>1</td>\n",
       "      <td>1</td>\n",
       "      <td>6582</td>\n",
       "    </tr>\n",
       "    <tr>\n",
       "      <th>27798</th>\n",
       "      <td>8378563200</td>\n",
       "      <td>13</td>\n",
       "      <td>4.483333</td>\n",
       "      <td>9.883333</td>\n",
       "      <td>3788</td>\n",
       "      <td>763</td>\n",
       "      <td>184</td>\n",
       "      <td>10</td>\n",
       "      <td>72</td>\n",
       "      <td>0</td>\n",
       "      <td>5</td>\n",
       "      <td>1</td>\n",
       "      <td>1</td>\n",
       "      <td>9143</td>\n",
       "    </tr>\n",
       "    <tr>\n",
       "      <th>27799</th>\n",
       "      <td>8378563200</td>\n",
       "      <td>13</td>\n",
       "      <td>4.483333</td>\n",
       "      <td>9.883333</td>\n",
       "      <td>1976</td>\n",
       "      <td>433</td>\n",
       "      <td>102</td>\n",
       "      <td>6</td>\n",
       "      <td>8</td>\n",
       "      <td>0</td>\n",
       "      <td>3</td>\n",
       "      <td>0</td>\n",
       "      <td>1</td>\n",
       "      <td>4561</td>\n",
       "    </tr>\n",
       "  </tbody>\n",
       "</table>\n",
       "<p>27800 rows × 14 columns</p>\n",
       "</div>"
      ],
      "text/plain": [
       "               Id  TotalDistance  TotalActiveHours  SedentaryHours  Calories  \\\n",
       "0      1624580081             28          7.000000       17.000000      1432   \n",
       "1      1624580081             28          7.000000       17.000000      1411   \n",
       "2      1624580081             28          7.000000       17.000000      1572   \n",
       "3      1624580081             28          7.000000       17.000000      1344   \n",
       "4      1624580081             28          7.000000       17.000000      1463   \n",
       "...           ...            ...               ...             ...       ...   \n",
       "27795  8378563200             13          4.483333        9.883333      2685   \n",
       "27796  8378563200             13          4.483333        9.883333      3721   \n",
       "27797  8378563200             13          4.483333        9.883333      3586   \n",
       "27798  8378563200             13          4.483333        9.883333      3788   \n",
       "27799  8378563200             13          4.483333        9.883333      1976   \n",
       "\n",
       "       SedentaryMinutes  LightlyActiveMinutes  FairlyActiveMinutes  \\\n",
       "0                  1294                   146                    0   \n",
       "1                  1292                   148                    0   \n",
       "2                  1204                   236                    0   \n",
       "3                  1344                    96                    0   \n",
       "4                  1264                   176                    0   \n",
       "...                 ...                   ...                  ...   \n",
       "27795               621                   139                    0   \n",
       "27796               772                   171                   13   \n",
       "27797               840                   152                   13   \n",
       "27798               763                   184                   10   \n",
       "27799               433                   102                    6   \n",
       "\n",
       "       VeryActiveMinutes  SedentaryActiveDistance  LightActiveDistance  \\\n",
       "0                      0                        0                    5   \n",
       "1                      0                        0                    5   \n",
       "2                      0                        0                    6   \n",
       "3                      0                        0                    1   \n",
       "4                      0                        0                    3   \n",
       "...                  ...                      ...                  ...   \n",
       "27795                  0                        0                    2   \n",
       "27796                 71                        0                    5   \n",
       "27797                 63                        0                    4   \n",
       "27798                 72                        0                    5   \n",
       "27799                  8                        0                    3   \n",
       "\n",
       "       ModeratelyActiveDistance  VeryActiveDistance  StepTotal  \n",
       "0                             0                   0       8163  \n",
       "1                             0                   0       7007  \n",
       "2                             0                   0       9107  \n",
       "3                             0                   0       1510  \n",
       "4                             0                   0       5370  \n",
       "...                         ...                 ...        ...  \n",
       "27795                         0                   0       2943  \n",
       "27796                         1                   1       8382  \n",
       "27797                         1                   1       6582  \n",
       "27798                         1                   1       9143  \n",
       "27799                         0                   1       4561  \n",
       "\n",
       "[27800 rows x 14 columns]"
      ]
     },
     "execution_count": 12,
     "metadata": {},
     "output_type": "execute_result"
    }
   ],
   "source": [
    "# merging the data\n",
    "\n",
    "final_data = pd.merge(activity_data, daily_activity)\n",
    "final_data"
   ]
  },
  {
   "cell_type": "markdown",
   "id": "8a65b8bf",
   "metadata": {
    "papermill": {
     "duration": 0.009442,
     "end_time": "2022-06-12T16:30:42.230707",
     "exception": false,
     "start_time": "2022-06-12T16:30:42.221265",
     "status": "completed"
    },
    "tags": []
   },
   "source": [
    "# Creating new feature"
   ]
  },
  {
   "cell_type": "code",
   "execution_count": 13,
   "id": "d24a9b90",
   "metadata": {
    "execution": {
     "iopub.execute_input": "2022-06-12T16:30:42.251974Z",
     "iopub.status.busy": "2022-06-12T16:30:42.251359Z",
     "iopub.status.idle": "2022-06-12T16:30:42.265036Z",
     "shell.execute_reply": "2022-06-12T16:30:42.263976Z"
    },
    "papermill": {
     "duration": 0.027383,
     "end_time": "2022-06-12T16:30:42.267567",
     "exception": false,
     "start_time": "2022-06-12T16:30:42.240184",
     "status": "completed"
    },
    "tags": []
   },
   "outputs": [
    {
     "data": {
      "text/html": [
       "<div>\n",
       "<style scoped>\n",
       "    .dataframe tbody tr th:only-of-type {\n",
       "        vertical-align: middle;\n",
       "    }\n",
       "\n",
       "    .dataframe tbody tr th {\n",
       "        vertical-align: top;\n",
       "    }\n",
       "\n",
       "    .dataframe thead th {\n",
       "        text-align: right;\n",
       "    }\n",
       "</style>\n",
       "<table border=\"1\" class=\"dataframe\">\n",
       "  <thead>\n",
       "    <tr style=\"text-align: right;\">\n",
       "      <th></th>\n",
       "      <th>Id</th>\n",
       "      <th>Average_sleep_hours</th>\n",
       "      <th>Average_time_in_bed_hours</th>\n",
       "      <th>Average_calories</th>\n",
       "      <th>Average_steps</th>\n",
       "      <th>TotalDistance</th>\n",
       "      <th>average_time_awake_in_bed</th>\n",
       "    </tr>\n",
       "  </thead>\n",
       "  <tbody>\n",
       "    <tr>\n",
       "      <th>0</th>\n",
       "      <td>1503960366</td>\n",
       "      <td>5.450000</td>\n",
       "      <td>5.766667</td>\n",
       "      <td>1985</td>\n",
       "      <td>13162</td>\n",
       "      <td>9</td>\n",
       "      <td>0.316667</td>\n",
       "    </tr>\n",
       "    <tr>\n",
       "      <th>1</th>\n",
       "      <td>1503960366</td>\n",
       "      <td>6.400000</td>\n",
       "      <td>6.783333</td>\n",
       "      <td>1797</td>\n",
       "      <td>10735</td>\n",
       "      <td>8</td>\n",
       "      <td>0.383333</td>\n",
       "    </tr>\n",
       "    <tr>\n",
       "      <th>2</th>\n",
       "      <td>1503960366</td>\n",
       "      <td>6.866667</td>\n",
       "      <td>7.366667</td>\n",
       "      <td>1745</td>\n",
       "      <td>9762</td>\n",
       "      <td>6</td>\n",
       "      <td>0.500000</td>\n",
       "    </tr>\n",
       "    <tr>\n",
       "      <th>3</th>\n",
       "      <td>1503960366</td>\n",
       "      <td>5.666667</td>\n",
       "      <td>6.116667</td>\n",
       "      <td>1863</td>\n",
       "      <td>12669</td>\n",
       "      <td>8</td>\n",
       "      <td>0.450000</td>\n",
       "    </tr>\n",
       "    <tr>\n",
       "      <th>4</th>\n",
       "      <td>1503960366</td>\n",
       "      <td>11.666667</td>\n",
       "      <td>11.866667</td>\n",
       "      <td>1728</td>\n",
       "      <td>9705</td>\n",
       "      <td>7</td>\n",
       "      <td>0.200000</td>\n",
       "    </tr>\n",
       "  </tbody>\n",
       "</table>\n",
       "</div>"
      ],
      "text/plain": [
       "           Id  Average_sleep_hours  Average_time_in_bed_hours  \\\n",
       "0  1503960366             5.450000                   5.766667   \n",
       "1  1503960366             6.400000                   6.783333   \n",
       "2  1503960366             6.866667                   7.366667   \n",
       "3  1503960366             5.666667                   6.116667   \n",
       "4  1503960366            11.666667                  11.866667   \n",
       "\n",
       "   Average_calories  Average_steps  TotalDistance  average_time_awake_in_bed  \n",
       "0              1985          13162              9                   0.316667  \n",
       "1              1797          10735              8                   0.383333  \n",
       "2              1745           9762              6                   0.500000  \n",
       "3              1863          12669              8                   0.450000  \n",
       "4              1728           9705              7                   0.200000  "
      ]
     },
     "execution_count": 13,
     "metadata": {},
     "output_type": "execute_result"
    }
   ],
   "source": [
    "# creating a new feature to see hours stayed awake in bed\n",
    "sleep_and_activity['average_time_awake_in_bed'] = sleep_and_activity['Average_time_in_bed_hours'] - sleep_and_activity['Average_sleep_hours']\n",
    "sleep_and_activity.head()"
   ]
  },
  {
   "cell_type": "code",
   "execution_count": 14,
   "id": "bccb5e25",
   "metadata": {
    "execution": {
     "iopub.execute_input": "2022-06-12T16:30:42.290054Z",
     "iopub.status.busy": "2022-06-12T16:30:42.289647Z",
     "iopub.status.idle": "2022-06-12T16:30:42.305503Z",
     "shell.execute_reply": "2022-06-12T16:30:42.304488Z"
    },
    "papermill": {
     "duration": 0.029827,
     "end_time": "2022-06-12T16:30:42.307806",
     "exception": false,
     "start_time": "2022-06-12T16:30:42.277979",
     "status": "completed"
    },
    "tags": []
   },
   "outputs": [
    {
     "data": {
      "text/html": [
       "<div>\n",
       "<style scoped>\n",
       "    .dataframe tbody tr th:only-of-type {\n",
       "        vertical-align: middle;\n",
       "    }\n",
       "\n",
       "    .dataframe tbody tr th {\n",
       "        vertical-align: top;\n",
       "    }\n",
       "\n",
       "    .dataframe thead th {\n",
       "        text-align: right;\n",
       "    }\n",
       "</style>\n",
       "<table border=\"1\" class=\"dataframe\">\n",
       "  <thead>\n",
       "    <tr style=\"text-align: right;\">\n",
       "      <th></th>\n",
       "      <th>Id</th>\n",
       "      <th>Average_sleep_hours</th>\n",
       "      <th>Average_time_in_bed_hours</th>\n",
       "      <th>Average_calories</th>\n",
       "      <th>Average_steps</th>\n",
       "      <th>TotalDistance</th>\n",
       "      <th>average_time_awake_in_bed</th>\n",
       "      <th>Walk_kilometer</th>\n",
       "    </tr>\n",
       "  </thead>\n",
       "  <tbody>\n",
       "    <tr>\n",
       "      <th>0</th>\n",
       "      <td>1503960366</td>\n",
       "      <td>5.450000</td>\n",
       "      <td>5.766667</td>\n",
       "      <td>1985</td>\n",
       "      <td>13162</td>\n",
       "      <td>9</td>\n",
       "      <td>0.316667</td>\n",
       "      <td>10.029719</td>\n",
       "    </tr>\n",
       "    <tr>\n",
       "      <th>1</th>\n",
       "      <td>1503960366</td>\n",
       "      <td>6.400000</td>\n",
       "      <td>6.783333</td>\n",
       "      <td>1797</td>\n",
       "      <td>10735</td>\n",
       "      <td>8</td>\n",
       "      <td>0.383333</td>\n",
       "      <td>8.180294</td>\n",
       "    </tr>\n",
       "    <tr>\n",
       "      <th>2</th>\n",
       "      <td>1503960366</td>\n",
       "      <td>6.866667</td>\n",
       "      <td>7.366667</td>\n",
       "      <td>1745</td>\n",
       "      <td>9762</td>\n",
       "      <td>6</td>\n",
       "      <td>0.500000</td>\n",
       "      <td>7.438848</td>\n",
       "    </tr>\n",
       "    <tr>\n",
       "      <th>3</th>\n",
       "      <td>1503960366</td>\n",
       "      <td>5.666667</td>\n",
       "      <td>6.116667</td>\n",
       "      <td>1863</td>\n",
       "      <td>12669</td>\n",
       "      <td>8</td>\n",
       "      <td>0.450000</td>\n",
       "      <td>9.654043</td>\n",
       "    </tr>\n",
       "    <tr>\n",
       "      <th>4</th>\n",
       "      <td>1503960366</td>\n",
       "      <td>11.666667</td>\n",
       "      <td>11.866667</td>\n",
       "      <td>1728</td>\n",
       "      <td>9705</td>\n",
       "      <td>7</td>\n",
       "      <td>0.200000</td>\n",
       "      <td>7.395413</td>\n",
       "    </tr>\n",
       "  </tbody>\n",
       "</table>\n",
       "</div>"
      ],
      "text/plain": [
       "           Id  Average_sleep_hours  Average_time_in_bed_hours  \\\n",
       "0  1503960366             5.450000                   5.766667   \n",
       "1  1503960366             6.400000                   6.783333   \n",
       "2  1503960366             6.866667                   7.366667   \n",
       "3  1503960366             5.666667                   6.116667   \n",
       "4  1503960366            11.666667                  11.866667   \n",
       "\n",
       "   Average_calories  Average_steps  TotalDistance  average_time_awake_in_bed  \\\n",
       "0              1985          13162              9                   0.316667   \n",
       "1              1797          10735              8                   0.383333   \n",
       "2              1745           9762              6                   0.500000   \n",
       "3              1863          12669              8                   0.450000   \n",
       "4              1728           9705              7                   0.200000   \n",
       "\n",
       "   Walk_kilometer  \n",
       "0       10.029719  \n",
       "1        8.180294  \n",
       "2        7.438848  \n",
       "3        9.654043  \n",
       "4        7.395413  "
      ]
     },
     "execution_count": 14,
     "metadata": {},
     "output_type": "execute_result"
    }
   ],
   "source": [
    "# creating a new feature to fing total distance covered by walking\n",
    "\n",
    "sleep_and_activity['Walk_kilometer'] = sleep_and_activity['Average_steps']/1312.3\n",
    "sleep_and_activity.head()"
   ]
  },
  {
   "cell_type": "markdown",
   "id": "524b57a1",
   "metadata": {
    "papermill": {
     "duration": 0.010278,
     "end_time": "2022-06-12T16:30:42.328973",
     "exception": false,
     "start_time": "2022-06-12T16:30:42.318695",
     "status": "completed"
    },
    "tags": []
   },
   "source": [
    "# Analyse"
   ]
  },
  {
   "cell_type": "code",
   "execution_count": 15,
   "id": "700d110a",
   "metadata": {
    "execution": {
     "iopub.execute_input": "2022-06-12T16:30:42.351778Z",
     "iopub.status.busy": "2022-06-12T16:30:42.351266Z",
     "iopub.status.idle": "2022-06-12T16:30:42.578168Z",
     "shell.execute_reply": "2022-06-12T16:30:42.577022Z"
    },
    "papermill": {
     "duration": 0.241359,
     "end_time": "2022-06-12T16:30:42.580899",
     "exception": false,
     "start_time": "2022-06-12T16:30:42.339540",
     "status": "completed"
    },
    "tags": []
   },
   "outputs": [
    {
     "data": {
      "text/plain": [
       "<AxesSubplot:xlabel='SedentaryHours', ylabel='Density'>"
      ]
     },
     "execution_count": 15,
     "metadata": {},
     "output_type": "execute_result"
    },
    {
     "data": {
      "image/png": "[encoded data removed]",
      "text/plain": [
       "<Figure size 432x288 with 1 Axes>"
      ]
     },
     "metadata": {
      "needs_background": "light"
     },
     "output_type": "display_data"
    }
   ],
   "source": [
    "# identify who's our target audience\n",
    "\n",
    "# determining the user's age\n",
    "\n",
    "sns.kdeplot(activity_data['SedentaryHours'])"
   ]
  },
  {
   "cell_type": "markdown",
   "id": "34a7e4d7",
   "metadata": {
    "papermill": {
     "duration": 0.010871,
     "end_time": "2022-06-12T16:30:42.602962",
     "exception": false,
     "start_time": "2022-06-12T16:30:42.592091",
     "status": "completed"
    },
    "tags": []
   },
   "source": [
    "we can see the sedentary hours peaks as 12 and 20. So, we can infer that our target audience are mostly college students and working professionals."
   ]
  },
  {
   "cell_type": "code",
   "execution_count": 16,
   "id": "c75f1478",
   "metadata": {
    "execution": {
     "iopub.execute_input": "2022-06-12T16:30:42.628340Z",
     "iopub.status.busy": "2022-06-12T16:30:42.627000Z",
     "iopub.status.idle": "2022-06-12T16:30:42.855709Z",
     "shell.execute_reply": "2022-06-12T16:30:42.854297Z"
    },
    "papermill": {
     "duration": 0.244399,
     "end_time": "2022-06-12T16:30:42.858300",
     "exception": false,
     "start_time": "2022-06-12T16:30:42.613901",
     "status": "completed"
    },
    "tags": []
   },
   "outputs": [
    {
     "name": "stderr",
     "output_type": "stream",
     "text": [
      "/opt/conda/lib/python3.7/site-packages/seaborn/_decorators.py:43: FutureWarning: Pass the following variables as keyword args: x, y. From version 0.12, the only valid positional argument will be `data`, and passing other arguments without an explicit keyword will result in an error or misinterpretation.\n",
      "  FutureWarning\n"
     ]
    },
    {
     "data": {
      "text/plain": [
       "<AxesSubplot:xlabel='VeryActiveMinutes', ylabel='Calories'>"
      ]
     },
     "execution_count": 16,
     "metadata": {},
     "output_type": "execute_result"
    },
    {
     "data": {
      "image/png": "[encoded data removed]",
      "text/plain": [
       "<Figure size 432x288 with 1 Axes>"
      ]
     },
     "metadata": {
      "needs_background": "light"
     },
     "output_type": "display_data"
    }
   ],
   "source": [
    "sns.scatterplot(daily_activity['VeryActiveMinutes'], daily_activity['Calories'])"
   ]
  },
  {
   "cell_type": "markdown",
   "id": "91402f4d",
   "metadata": {
    "papermill": {
     "duration": 0.011619,
     "end_time": "2022-06-12T16:30:42.882455",
     "exception": false,
     "start_time": "2022-06-12T16:30:42.870836",
     "status": "completed"
    },
    "tags": []
   },
   "source": [
    "We can see there is increase in calories burned with increase in very active minutes"
   ]
  },
  {
   "cell_type": "code",
   "execution_count": 17,
   "id": "e9d8a060",
   "metadata": {
    "execution": {
     "iopub.execute_input": "2022-06-12T16:30:42.908127Z",
     "iopub.status.busy": "2022-06-12T16:30:42.907699Z",
     "iopub.status.idle": "2022-06-12T16:30:43.344948Z",
     "shell.execute_reply": "2022-06-12T16:30:43.344189Z"
    },
    "papermill": {
     "duration": 0.452532,
     "end_time": "2022-06-12T16:30:43.347046",
     "exception": false,
     "start_time": "2022-06-12T16:30:42.894514",
     "status": "completed"
    },
    "tags": []
   },
   "outputs": [
    {
     "data": {
      "text/plain": [
       "<seaborn.axisgrid.FacetGrid at 0x7f842b9d3710>"
      ]
     },
     "execution_count": 17,
     "metadata": {},
     "output_type": "execute_result"
    },
    {
     "data": {
      "image/png": "[encoded data removed]",
      "text/plain": [
       "<Figure size 360x360 with 1 Axes>"
      ]
     },
     "metadata": {
      "needs_background": "light"
     },
     "output_type": "display_data"
    }
   ],
   "source": [
    "sns.displot(sleep_and_activity['average_time_awake_in_bed'])"
   ]
  },
  {
   "cell_type": "markdown",
   "id": "3d50dbe9",
   "metadata": {
    "papermill": {
     "duration": 0.011576,
     "end_time": "2022-06-12T16:30:43.370430",
     "exception": false,
     "start_time": "2022-06-12T16:30:43.358854",
     "status": "completed"
    },
    "tags": []
   },
   "source": [
    "we can see most people spend on average of half an hour staying awake at bed "
   ]
  },
  {
   "cell_type": "code",
   "execution_count": 18,
   "id": "5563616f",
   "metadata": {
    "execution": {
     "iopub.execute_input": "2022-06-12T16:30:43.395954Z",
     "iopub.status.busy": "2022-06-12T16:30:43.395078Z",
     "iopub.status.idle": "2022-06-12T16:30:43.710714Z",
     "shell.execute_reply": "2022-06-12T16:30:43.709973Z"
    },
    "papermill": {
     "duration": 0.330664,
     "end_time": "2022-06-12T16:30:43.712886",
     "exception": false,
     "start_time": "2022-06-12T16:30:43.382222",
     "status": "completed"
    },
    "tags": []
   },
   "outputs": [
    {
     "data": {
      "text/plain": [
       "<seaborn.axisgrid.FacetGrid at 0x7f84091f0b50>"
      ]
     },
     "execution_count": 18,
     "metadata": {},
     "output_type": "execute_result"
    },
    {
     "data": {
      "image/png": "[encoded data removed]",
      "text/plain": [
       "<Figure size 360x360 with 1 Axes>"
      ]
     },
     "metadata": {
      "needs_background": "light"
     },
     "output_type": "display_data"
    }
   ],
   "source": [
    "sns.displot(sleep_and_activity['Walk_kilometer'])"
   ]
  },
  {
   "cell_type": "markdown",
   "id": "1edb7735",
   "metadata": {
    "papermill": {
     "duration": 0.011785,
     "end_time": "2022-06-12T16:30:43.736677",
     "exception": false,
     "start_time": "2022-06-12T16:30:43.724892",
     "status": "completed"
    },
    "tags": []
   },
   "source": [
    "# Inference\n",
    "\n",
    "* The sedentary hours peaks at 12 and 20. So most of our target audience are students and working professionals. Our customers age range from 17-35.\n",
    "\n",
    "* Most of the users spends on an average of half an hour in bed staying awake.\n",
    "\n",
    "* There's a increase in calories burnt with increase in very active minutes.\n",
    "\n",
    "* Most of the users walks on an average of 6-8 kms daily.\n",
    "\n"
   ]
  },
  {
   "cell_type": "markdown",
   "id": "5c6cc753",
   "metadata": {
    "papermill": {
     "duration": 0.011702,
     "end_time": "2022-06-12T16:30:43.760425",
     "exception": false,
     "start_time": "2022-06-12T16:30:43.748723",
     "status": "completed"
    },
    "tags": []
   },
   "source": [
    "# Marketing campaign ideas\n",
    "\n",
    "* Our target audience age range from 17-35. So advertisements and posts through social media platform would be effective strategy.\n",
    "\n",
    "* Promoting our products through brand ambassador, social media influencers, advertisements and creating social CRM are the effective ways to design a marketing campaign.\n",
    "\n",
    "* We can develope an app to seamlessly connect to the user mobile devices.\n",
    "\n",
    "* We see that the most user spend about half an hour staying awake at bed, so we send them a notification through the app to remaind them to sleep.\n",
    "\n",
    "* Bill boards and banners can be placed on road side, public transport where workers and students usually commute.\n",
    "\n",
    "* We can see that the calories burnt increases with the very active minute, so we allow user to set a goal that enables them to da certain activity on a day to day basis.\n"
   ]
  }
 ],
 "metadata": {
  "kernelspec": {
   "display_name": "Python 3",
   "language": "python",
   "name": "python3"
  },
  "language_info": {
   "codemirror_mode": {
    "name": "ipython",
    "version": 3
   },
   "file_extension": ".py",
   "mimetype": "text/x-python",
   "name": "python",
   "nbconvert_exporter": "python",
   "pygments_lexer": "ipython3",
   "version": "3.7.12"
  },
  "papermill": {
   "default_parameters": {},
   "duration": 14.73495,
   "end_time": "2022-06-12T16:30:44.496127",
   "environment_variables": {},
   "exception": null,
   "input_path": "__notebook__.ipynb",
   "output_path": "__notebook__.ipynb",
   "parameters": {},
   "start_time": "2022-06-12T16:30:29.761177",
   "version": "2.3.4"
  }
 },
 "nbformat": 4,
 "nbformat_minor": 5
}
